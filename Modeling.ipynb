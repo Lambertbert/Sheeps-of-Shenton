{
 "cells": [
  {
   "cell_type": "code",
   "execution_count": 11,
   "metadata": {},
   "outputs": [
    {
     "name": "stdout",
     "output_type": "stream",
     "text": [
      "Collecting openpyxlNote: you may need to restart the kernel to use updated packages.\n"
     ]
    },
    {
     "name": "stderr",
     "output_type": "stream",
     "text": [
      "\n",
      "[notice] A new release of pip is available: 24.2 -> 25.0.1\n",
      "[notice] To update, run: python.exe -m pip install --upgrade pip\n"
     ]
    },
    {
     "name": "stdout",
     "output_type": "stream",
     "text": [
      "\n",
      "  Downloading openpyxl-3.1.5-py2.py3-none-any.whl.metadata (2.5 kB)\n",
      "Collecting et-xmlfile (from openpyxl)\n",
      "  Downloading et_xmlfile-2.0.0-py3-none-any.whl.metadata (2.7 kB)\n",
      "Downloading openpyxl-3.1.5-py2.py3-none-any.whl (250 kB)\n",
      "Downloading et_xmlfile-2.0.0-py3-none-any.whl (18 kB)\n",
      "Installing collected packages: et-xmlfile, openpyxl\n",
      "Successfully installed et-xmlfile-2.0.0 openpyxl-3.1.5\n"
     ]
    }
   ],
   "source": [
    "pip install openpyxl"
   ]
  },
  {
   "cell_type": "code",
   "execution_count": 2,
   "metadata": {},
   "outputs": [
    {
     "name": "stdout",
     "output_type": "stream",
     "text": [
      "Collecting scikit-learn\n",
      "  Downloading scikit_learn-1.6.1-cp312-cp312-win_amd64.whl.metadata (15 kB)\n",
      "Requirement already satisfied: numpy>=1.19.5 in c:\\users\\sebert\\appdata\\local\\programs\\python\\python312\\lib\\site-packages (from scikit-learn) (2.2.3)\n",
      "Collecting scipy>=1.6.0 (from scikit-learn)\n",
      "  Downloading scipy-1.15.2-cp312-cp312-win_amd64.whl.metadata (60 kB)\n",
      "Requirement already satisfied: joblib>=1.2.0 in c:\\users\\sebert\\appdata\\local\\programs\\python\\python312\\lib\\site-packages (from scikit-learn) (1.4.2)\n",
      "Collecting threadpoolctl>=3.1.0 (from scikit-learn)\n",
      "  Downloading threadpoolctl-3.5.0-py3-none-any.whl.metadata (13 kB)\n",
      "Downloading scikit_learn-1.6.1-cp312-cp312-win_amd64.whl (11.1 MB)\n",
      "   ---------------------------------------- 0.0/11.1 MB ? eta -:--:--\n",
      "   ------------------------------------ --- 10.2/11.1 MB 49.1 MB/s eta 0:00:01\n",
      "   ---------------------------------------- 11.1/11.1 MB 40.8 MB/s eta 0:00:00\n",
      "Downloading scipy-1.15.2-cp312-cp312-win_amd64.whl (40.9 MB)\n",
      "   ---------------------------------------- 0.0/40.9 MB ? eta -:--:--\n",
      "   ----------- ---------------------------- 11.3/40.9 MB 54.2 MB/s eta 0:00:01\n",
      "   ---------------------- ----------------- 23.3/40.9 MB 56.8 MB/s eta 0:00:01\n",
      "   --------------------------- ------------ 28.6/40.9 MB 50.3 MB/s eta 0:00:01\n",
      "   ------------------------------------ --- 37.2/40.9 MB 43.8 MB/s eta 0:00:01\n",
      "   ---------------------------------------- 40.9/40.9 MB 40.0 MB/s eta 0:00:00\n",
      "Downloading threadpoolctl-3.5.0-py3-none-any.whl (18 kB)\n",
      "Installing collected packages: threadpoolctl, scipy, scikit-learn\n",
      "Successfully installed scikit-learn-1.6.1 scipy-1.15.2 threadpoolctl-3.5.0\n",
      "Note: you may need to restart the kernel to use updated packages.\n"
     ]
    },
    {
     "name": "stderr",
     "output_type": "stream",
     "text": [
      "\n",
      "[notice] A new release of pip is available: 24.2 -> 25.0.1\n",
      "[notice] To update, run: python.exe -m pip install --upgrade pip\n"
     ]
    }
   ],
   "source": [
    "pip install scikit-learn"
   ]
  },
  {
   "cell_type": "code",
   "execution_count": 18,
   "metadata": {},
   "outputs": [
    {
     "name": "stdout",
     "output_type": "stream",
     "text": [
      "Reading file: stock_data\\AAPL_data_with_sentiment.csv\n",
      "Reading file: stock_data\\NVDA_data_with_sentiment.csv\n",
      "Reading file: stock_data\\AMZN_data_with_sentiment.csv\n",
      "Reading file: stock_data\\GOOG_data_with_sentiment.csv\n",
      "Reading file: stock_data\\MSFT_data_with_sentiment.csv\n",
      "Merged DataFrame shape: (2263, 80)\n",
      "Merged data saved to stock_data\\tech_data_with_sentiment.xlsx\n"
     ]
    }
   ],
   "source": [
    "import os\n",
    "import pandas as pd\n",
    "\n",
    "# Define the folder containing the CSV files\n",
    "csv_folder = \"stock_data\"\n",
    "\n",
    "# List of CSV filenames (ensure these match your file names)\n",
    "filenames = [\n",
    "    \"AAPL_data_with_sentiment.csv\",\n",
    "    \"NVDA_data_with_sentiment.csv\",\n",
    "    \"AMZN_data_with_sentiment.csv\",\n",
    "    \"GOOG_data_with_sentiment.csv\",\n",
    "    \"MSFT_data_with_sentiment.csv\"\n",
    "]\n",
    "\n",
    "dfs = []\n",
    "\n",
    "for file in filenames:\n",
    "    file_path = os.path.join(csv_folder, file)\n",
    "    if os.path.exists(file_path):\n",
    "        print(f\"Reading file: {file_path}\")\n",
    "        df = pd.read_csv(file_path)\n",
    "        \n",
    "        # Convert 'Datetime' column to datetime type and set as index\n",
    "        df['Datetime'] = pd.to_datetime(df['Datetime'])\n",
    "        df.set_index('Datetime', inplace=True)\n",
    "        \n",
    "        # Extract ticker from filename (assumes filename format: TICKER_data_with_sentiment.csv)\n",
    "        ticker = file.split(\"_\")[0]\n",
    "        \n",
    "        # Rename columns: append the ticker to each column if not already appended\n",
    "        rename_dict = {}\n",
    "        for col in df.columns:\n",
    "            if not col.endswith(\"_\" + ticker):\n",
    "                rename_dict[col] = f\"{col}_{ticker}\"\n",
    "        df.rename(columns=rename_dict, inplace=True)\n",
    "        \n",
    "        dfs.append(df)\n",
    "    else:\n",
    "        print(f\"File not found: {file_path}\")\n",
    "\n",
    "if not dfs:\n",
    "    raise ValueError(\"No CSV files were found or loaded. Check your file paths and filenames.\")\n",
    "\n",
    "# Merge all DataFrames on the index (Datetime) using an outer join\n",
    "merged_df = pd.concat(dfs, axis=1, join='outer')\n",
    "merged_df.sort_index(inplace=True)\n",
    "\n",
    "print(\"Merged DataFrame shape:\", merged_df.shape)\n",
    "\n",
    "# Save the merged DataFrame as an Excel file in the stock_data folder with the desired filename\n",
    "output_file = os.path.join(csv_folder, \"tech_data_with_sentiment.xlsx\")\n",
    "merged_df.to_excel(output_file, index=True)\n",
    "\n",
    "print(f\"Merged data saved to {output_file}\")\n"
   ]
  }
 ],
 "metadata": {
  "kernelspec": {
   "display_name": "Python 3",
   "language": "python",
   "name": "python3"
  },
  "language_info": {
   "codemirror_mode": {
    "name": "ipython",
    "version": 3
   },
   "file_extension": ".py",
   "mimetype": "text/x-python",
   "name": "python",
   "nbconvert_exporter": "python",
   "pygments_lexer": "ipython3",
   "version": "3.12.6"
  }
 },
 "nbformat": 4,
 "nbformat_minor": 2
}
